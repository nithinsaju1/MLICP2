{
  "nbformat": 4,
  "nbformat_minor": 0,
  "metadata": {
    "colab": {
      "provenance": []
    },
    "kernelspec": {
      "name": "python3",
      "display_name": "Python 3"
    },
    "language_info": {
      "name": "python"
    }
  },
  "cells": [
    {
      "cell_type": "code",
      "execution_count": 1,
      "metadata": {
        "colab": {
          "base_uri": "https://localhost:8080/"
        },
        "id": "hTMYTzl2jfBa",
        "outputId": "853a8d63-1fee-4a9d-c54a-949b6544d700"
      },
      "outputs": [
        {
          "output_type": "stream",
          "name": "stdout",
          "text": [
            "* \n",
            "* * \n",
            "* * * \n",
            "* * * * \n",
            "* * * * * \n",
            "* * * * \n",
            "* * * \n",
            "* * \n",
            "* \n"
          ]
        }
      ],
      "source": [
        "# Define the number of rows\n",
        "rows = 5\n",
        "\n",
        "# Display the upper half of the pattern\n",
        "for i in range(1, rows + 1):\n",
        "    for j in range(1, i + 1):\n",
        "        print(\"*\", end=\" \")\n",
        "    print()\n",
        "\n",
        "# Display the lower half of the pattern\n",
        "for i in range(rows - 1, 0, -1):\n",
        "    for j in range(1, i + 1):\n",
        "        print(\"*\", end=\" \")\n",
        "    print()\n"
      ]
    },
    {
      "cell_type": "code",
      "source": [
        "my_list = [10, 20, 30, 40, 50, 60, 70, 80, 90, 100]\n",
        "\n",
        "# Loop through the indices of the list and output the elements at odd indices\n",
        "for i in range(1, len(my_list), 2):\n",
        "    print(my_list[i])\n"
      ],
      "metadata": {
        "colab": {
          "base_uri": "https://localhost:8080/"
        },
        "id": "A7Rk5j9_kOnC",
        "outputId": "b86b4b7f-12d2-48a8-c534-9554d8d6ed67"
      },
      "execution_count": 2,
      "outputs": [
        {
          "output_type": "stream",
          "name": "stdout",
          "text": [
            "20\n",
            "40\n",
            "60\n",
            "80\n",
            "100\n"
          ]
        }
      ]
    },
    {
      "cell_type": "code",
      "source": [
        "x = [23, 'Python', 23.98]\n",
        "\n",
        "# List to store the types of elements\n",
        "types_list = []\n",
        "\n",
        "# Iterate over the elements of the list\n",
        "for element in x:\n",
        "    # Append the type of each element to the types_list\n",
        "    types_list.append(type(element))\n",
        "\n",
        "# Print the original list\n",
        "print(x)\n",
        "\n",
        "# Print the list containing the types of elements\n",
        "print(types_list)\n"
      ],
      "metadata": {
        "colab": {
          "base_uri": "https://localhost:8080/"
        },
        "id": "9SHamCflkuWS",
        "outputId": "d28523d0-c8d7-4060-d8cd-6d15beffac59"
      },
      "execution_count": 3,
      "outputs": [
        {
          "output_type": "stream",
          "name": "stdout",
          "text": [
            "[23, 'Python', 23.98]\n",
            "[<class 'int'>, <class 'str'>, <class 'float'>]\n"
          ]
        }
      ]
    },
    {
      "cell_type": "code",
      "source": [
        "def unique_list(input_list):\n",
        "    # Create an empty list to store unique elements\n",
        "    unique_items = []\n",
        "\n",
        "    # Iterate over the input list\n",
        "    for item in input_list:\n",
        "        # Check if the item is not already in the unique list\n",
        "        if item not in unique_items:\n",
        "            # Add the item to the unique list\n",
        "            unique_items.append(item)\n",
        "\n",
        "    # Return the list with unique items\n",
        "    return unique_items\n",
        "\n",
        "# Sample list\n",
        "sample_list = [1, 2, 3, 3, 3, 3, 4, 5]\n",
        "\n",
        "# Call the function and print the unique list\n",
        "print(\"Sample List:\", sample_list)\n",
        "print(\"Unique List:\", unique_list(sample_list))\n"
      ],
      "metadata": {
        "colab": {
          "base_uri": "https://localhost:8080/"
        },
        "id": "5xASd4pvk6S5",
        "outputId": "67c38507-0e18-4892-802d-8e167ba49934"
      },
      "execution_count": 5,
      "outputs": [
        {
          "output_type": "stream",
          "name": "stdout",
          "text": [
            "Sample List: [1, 2, 3, 3, 3, 3, 4, 5]\n",
            "Unique List: [1, 2, 3, 4, 5]\n"
          ]
        }
      ]
    },
    {
      "cell_type": "code",
      "source": [
        "def count_case_characters(input_string):\n",
        "    # Initialize counters for upper-case and lower-case characters\n",
        "    upper_count = 0\n",
        "    lower_count = 0\n",
        "\n",
        "    # Iterate through each character in the input string\n",
        "    for char in input_string:\n",
        "        # Check if the character is an upper-case letter\n",
        "        if char.isupper():\n",
        "            upper_count += 1\n",
        "        # Check if the character is a lower-case letter\n",
        "        elif char.islower():\n",
        "            lower_count += 1\n",
        "\n",
        "    # Return the counts of upper-case and lower-case characters\n",
        "    return upper_count, lower_count\n",
        "\n",
        "# Input string\n",
        "input_string = 'The quick Brow Fox'\n",
        "\n",
        "# Call the function and print the counts\n",
        "upper_count, lower_count = count_case_characters(input_string)\n",
        "print(\"No. of Upper-case characters:\", upper_count)\n",
        "print(\"No. of Lower-case Characters:\", lower_count)\n"
      ],
      "metadata": {
        "colab": {
          "base_uri": "https://localhost:8080/"
        },
        "id": "aOHjqhkllByr",
        "outputId": "9daa1f83-8d78-49c5-f0df-b6b1697e62c0"
      },
      "execution_count": 6,
      "outputs": [
        {
          "output_type": "stream",
          "name": "stdout",
          "text": [
            "No. of Upper-case characters: 3\n",
            "No. of Lower-case Characters: 12\n"
          ]
        }
      ]
    }
  ]
}